{
 "cells": [
  {
   "cell_type": "code",
   "execution_count": 7,
   "id": "7dfc63de",
   "metadata": {},
   "outputs": [],
   "source": [
    "import my_utils\n",
    "import numpy as np\n",
    "import cv2\n",
    "from PIL import Image"
   ]
  },
  {
   "cell_type": "code",
   "execution_count": 8,
   "id": "c9034877",
   "metadata": {},
   "outputs": [],
   "source": [
    "google_dataset = my_utils.google_dataset"
   ]
  },
  {
   "cell_type": "code",
   "execution_count": 3,
   "id": "e55e89b7",
   "metadata": {
    "scrolled": true
   },
   "outputs": [
    {
     "name": "stdout",
     "output_type": "stream",
     "text": [
      "['P0003.txt', 'P0004.txt', 'P0007.txt', 'P0019.txt', 'P0027.txt', 'P0047.txt', 'P0053.txt', 'P0056.txt', 'P0060.txt', 'P0075.txt', 'P0079.txt', 'P0081.txt', 'P0086.txt', 'P0104.txt', 'P0110.txt', 'P0117.txt', 'P0123.txt', 'P0128.txt', 'P0130.txt', 'P0131.txt', 'P0143.txt', 'P0146.txt', 'P0150.txt', 'P0161.txt', 'P0168.txt', 'P0170.txt', 'P0173.txt', 'P0175.txt', 'P0179.txt', 'P0186.txt', 'P0189.txt', 'P0194.txt', 'P0198.txt', 'P0199.txt', 'P0206.txt', 'P0213.txt', 'P0217.txt', 'P0228.txt', 'P0237.txt', 'P0242.txt', 'P0246.txt', 'P0249.txt', 'P0257.txt', 'P0259.txt', 'P0261.txt', 'P0262.txt', 'P0300.txt', 'P0305.txt', 'P0309.txt', 'P0329.txt', 'P0331.txt', 'P0336.txt', 'P0342.txt', 'P0347.txt', 'P0348.txt', 'P0352.txt', 'P0353.txt', 'P0359.txt', 'P0368.txt', 'P0374.txt', 'P0375.txt', 'P0377.txt', 'P0382.txt', 'P0385.txt', 'P0396.txt', 'P0402.txt', 'P0411.txt', 'P0414.txt', 'P0420.txt', 'P0432.txt', 'P0454.txt', 'P0457.txt', 'P0466.txt', 'P0476.txt', 'P0486.txt', 'P0491.txt', 'P0499.txt', 'P0518.txt', 'P0524.txt', 'P0525.txt', 'P0526.txt', 'P0543.txt', 'P0547.txt', 'P0550.txt', 'P0551.txt', 'P0557.txt', 'P0558.txt', 'P0559.txt', 'P0564.txt', 'P0577.txt', 'P0579.txt', 'P0583.txt', 'P0589.txt', 'P0590.txt', 'P0604.txt', 'P0613.txt', 'P0615.txt', 'P0622.txt', 'P0623.txt', 'P0643.txt', 'P0647.txt', 'P0650.txt', 'P0651.txt', 'P0654.txt', 'P0659.txt', 'P0660.txt', 'P0665.txt', 'P0673.txt', 'P0683.txt', 'P0684.txt', 'P0696.txt', 'P0704.txt', 'P0706.txt', 'P0712.txt', 'P0715.txt', 'P0725.txt', 'P0729.txt', 'P0749.txt', 'P0761.txt', 'P0763.txt', 'P0764.txt', 'P0770.txt', 'P0787.txt', 'P0789.txt', 'P0791.txt', 'P0795.txt', 'P0796.txt', 'P0799.txt', 'P0801.txt', 'P0814.txt', 'P0815.txt', 'P0816.txt', 'P0822.txt', 'P0833.txt', 'P0837.txt', 'P0838.txt', 'P0839.txt', 'P0841.txt', 'P0844.txt', 'P0858.txt', 'P0864.txt', 'P0882.txt', 'P0887.txt', 'P0897.txt', 'P0904.txt', 'P0910.txt', 'P0929.txt', 'P0932.txt', 'P0936.txt', 'P0945.txt', 'P0949.txt', 'P0953.txt', 'P0961.txt', 'P0962.txt', 'P0964.txt', 'P0968.txt', 'P0969.txt', 'P0970.txt', 'P0974.txt', 'P0977.txt', 'P0989.txt', 'P0990.txt', 'P0998.txt', 'P1005.txt', 'P1007.txt', 'P1009.txt', 'P1014.txt', 'P1021.txt', 'P1022.txt', 'P1023.txt', 'P1029.txt', 'P1030.txt', 'P1051.txt', 'P1065.txt', 'P1066.txt', 'P1075.txt', 'P1086.txt', 'P1088.txt', 'P1090.txt', 'P1091.txt', 'P1095.txt', 'P1099.txt', 'P1101.txt', 'P1103.txt', 'P1122.txt', 'P1128.txt', 'P1133.txt', 'P1134.txt', 'P1137.txt', 'P1138.txt', 'P1143.txt', 'P1147.txt', 'P1149.txt', 'P1154.txt', 'P1156.txt', 'P1178.txt', 'P1179.txt', 'P1184.txt', 'P1189.txt', 'P1210.txt', 'P1212.txt', 'P1213.txt', 'P1219.txt', 'P1225.txt', 'P1230.txt', 'P1234.txt', 'P1240.txt', 'P1242.txt', 'P1246.txt', 'P1257.txt', 'P1266.txt', 'P1268.txt', 'P1269.txt', 'P1273.txt', 'P1275.txt', 'P1278.txt', 'P1283.txt', 'P1314.txt', 'P1315.txt', 'P1323.txt', 'P1332.txt', 'P1342.txt', 'P1356.txt', 'P1370.txt', 'P1371.txt', 'P1373.txt', 'P1376.txt', 'P1377.txt', 'P1380.txt', 'P1384.txt', 'P1386.txt', 'P1390.txt', 'P1397.txt', 'P1398.txt', 'P1410.txt', 'P1429.txt', 'P1432.txt', 'P1434.txt', 'P1440.txt', 'P1452.txt', 'P1456.txt', 'P1463.txt', 'P1471.txt', 'P1473.txt', 'P1474.txt', 'P1476.txt', 'P1478.txt', 'P1483.txt', 'P1492.txt', 'P1506.txt', 'P1508.txt', 'P1512.txt', 'P1513.txt', 'P1518.txt', 'P1529.txt', 'P1541.txt', 'P1542.txt', 'P1547.txt', 'P1557.txt', 'P1560.txt', 'P1561.txt', 'P1566.txt', 'P1569.txt', 'P1570.txt', 'P1573.txt', 'P1577.txt', 'P1579.txt', 'P1581.txt', 'P1583.txt', 'P1584.txt', 'P1586.txt', 'P1596.txt', 'P1598.txt', 'P1601.txt', 'P1604.txt', 'P1610.txt', 'P1619.txt', 'P1623.txt', 'P1643.txt', 'P1647.txt', 'P1650.txt', 'P1651.txt', 'P1666.txt', 'P1672.txt', 'P1679.txt', 'P1693.txt', 'P1699.txt', 'P1700.txt', 'P1713.txt', 'P1720.txt', 'P1732.txt', 'P1738.txt', 'P1742.txt', 'P1749.txt', 'P1750.txt', 'P1751.txt', 'P1752.txt', 'P1754.txt', 'P1759.txt', 'P1763.txt', 'P1770.txt', 'P1786.txt', 'P1787.txt', 'P1806.txt', 'P1809.txt', 'P1821.txt', 'P1825.txt', 'P1829.txt', 'P1838.txt', 'P1854.txt', 'P1860.txt', 'P1877.txt', 'P1878.txt', 'P1880.txt', 'P1888.txt', 'P1903.txt', 'P1904.txt', 'P1905.txt', 'P1911.txt', 'P1919.txt', 'P1924.txt', 'P1940.txt', 'P1950.txt', 'P1957.txt', 'P1958.txt', 'P1960.txt', 'P1973.txt', 'P1978.txt', 'P1982.txt', 'P1983.txt', 'P1992.txt', 'P1995.txt', 'P2003.txt', 'P2011.txt', 'P2012.txt', 'P2027.txt', 'P2042.txt', 'P2044.txt', 'P2050.txt', 'P2059.txt', 'P2068.txt', 'P2082.txt', 'P2085.txt', 'P2088.txt', 'P2093.txt', 'P2097.txt', 'P2098.txt', 'P2111.txt', 'P2121.txt', 'P2124.txt', 'P2126.txt', 'P2129.txt', 'P2135.txt', 'P2150.txt', 'P2152.txt', 'P2155.txt', 'P2166.txt', 'P2167.txt', 'P2168.txt', 'P2169.txt', 'P2181.txt', 'P2194.txt', 'P2197.txt', 'P2198.txt', 'P2214.txt', 'P2215.txt', 'P2218.txt', 'P2220.txt', 'P2230.txt', 'P2231.txt', 'P2236.txt', 'P2239.txt', 'P2241.txt', 'P2242.txt', 'P2255.txt', 'P2256.txt', 'P2271.txt', 'P2285.txt', 'P2286.txt', 'P2294.txt', 'P2310.txt', 'P2322.txt', 'P2330.txt', 'P2331.txt', 'P2337.txt', 'P2342.txt', 'P2351.txt', 'P2363.txt', 'P2365.txt', 'P2374.txt', 'P2375.txt', 'P2378.txt', 'P2385.txt', 'P2393.txt', 'P2394.txt', 'P2404.txt', 'P2408.txt', 'P2413.txt', 'P2420.txt', 'P2429.txt', 'P2446.txt', 'P2449.txt', 'P2450.txt', 'P2455.txt', 'P2462.txt', 'P2477.txt', 'P2478.txt', 'P2481.txt', 'P2488.txt', 'P2502.txt', 'P2504.txt', 'P2539.txt', 'P2541.txt', 'P2542.txt', 'P2547.txt', 'P2563.txt', 'P2570.txt', 'P2571.txt', 'P2577.txt', 'P2580.txt', 'P2582.txt', 'P2587.txt', 'P2592.txt', 'P2593.txt', 'P2595.txt', 'P2598.txt', 'P2599.txt', 'P2608.txt', 'P2610.txt', 'P2617.txt', 'P2625.txt', 'P2630.txt', 'P2645.txt', 'P2678.txt', 'P2689.txt', 'P2695.txt', 'P2701.txt', 'P2709.txt', 'P2714.txt', 'P2718.txt', 'P2721.txt', 'P2722.txt', 'P2724.txt', 'P2726.txt', 'P2733.txt', 'P2745.txt', 'P2754.txt', 'P2758.txt', 'P2766.txt', 'P2768.txt', 'P2771.txt', 'P2778.txt', 'P2779.txt', 'P2781.txt', 'P2789.txt', 'P2791.txt', 'P2794.txt', 'P2802.txt']\n"
     ]
    }
   ],
   "source": [
    "dataset = google_dataset('mydata/object_segment/val')\n",
    "# print(dataset[0][0])\n",
    "print(dataset.labels_txt)"
   ]
  },
  {
   "cell_type": "code",
   "execution_count": 11,
   "id": "0f1062bb",
   "metadata": {},
   "outputs": [],
   "source": [
    "image = dataset[0][0]"
   ]
  },
  {
   "cell_type": "code",
   "execution_count": 12,
   "id": "99e143b5",
   "metadata": {},
   "outputs": [
    {
     "data": {
      "text/plain": [
       "torch.Size([3, 1023, 1147])"
      ]
     },
     "execution_count": 12,
     "metadata": {},
     "output_type": "execute_result"
    }
   ],
   "source": [
    "image.shape"
   ]
  },
  {
   "cell_type": "code",
   "execution_count": 5,
   "id": "ad923f19",
   "metadata": {},
   "outputs": [
    {
     "data": {
      "text/plain": [
       "torch.Size([1023, 1147])"
      ]
     },
     "execution_count": 5,
     "metadata": {},
     "output_type": "execute_result"
    }
   ],
   "source": [
    "mask.shape"
   ]
  },
  {
   "cell_type": "code",
   "execution_count": 6,
   "id": "00993fca",
   "metadata": {},
   "outputs": [
    {
     "data": {
      "image/png": "[encoded data removed]",
      "text/plain": [
       "<PIL.Image.Image image mode=P size=1147x1023>"
      ]
     },
     "execution_count": 6,
     "metadata": {},
     "output_type": "execute_result"
    }
   ],
   "source": [
    "mask = Image.fromarray(mask.numpy())\n",
    "mask = mask.convert(\"P\")\n",
    "# 定义调色板\n",
    "palette = [\n",
    "    0, 0, 0,  # 黑色背景\n",
    "    255, 0, 0,  # 索引1为红色\n",
    "#     255, 255, 0,  # 索引2为黄色\n",
    "#     255, 153, 0,  # 索引3为橙色\n",
    "]\n",
    "\n",
    "# 应用调色板\n",
    "mask.putpalette(palette)\n",
    "mask"
   ]
  },
  {
   "cell_type": "code",
   "execution_count": null,
   "id": "8419d8e9",
   "metadata": {},
   "outputs": [],
   "source": []
  },
  {
   "cell_type": "code",
   "execution_count": null,
   "id": "9fff7a19",
   "metadata": {},
   "outputs": [],
   "source": []
  },
  {
   "cell_type": "code",
   "execution_count": null,
   "id": "b70cd976",
   "metadata": {},
   "outputs": [],
   "source": []
  },
  {
   "cell_type": "code",
   "execution_count": 2,
   "id": "d8792327",
   "metadata": {},
   "outputs": [],
   "source": [
    "import os\n",
    "import torch\n",
    "import numpy as np\n",
    "import torch.utils.data\n",
    "from PIL import Image"
   ]
  },
  {
   "cell_type": "code",
   "execution_count": 3,
   "id": "03fd9755",
   "metadata": {},
   "outputs": [],
   "source": [
    "img_path = 'mydata/dset-s2水域/dset-s2/tra_truth/S2A_L2A_20190125_N0211_R034_S1_Truth.tif'\n",
    "img = Image.open(img_path)"
   ]
  },
  {
   "cell_type": "code",
   "execution_count": 4,
   "id": "651873f2",
   "metadata": {},
   "outputs": [],
   "source": [
    "arr = np.array(img)"
   ]
  },
  {
   "cell_type": "code",
   "execution_count": 87,
   "id": "4f6eb93e",
   "metadata": {},
   "outputs": [
    {
     "data": {
      "text/plain": [
       "(array([   0,    0,    0, ..., 1023, 1023, 1023], dtype=int64),\n",
       " array([77, 78, 79, ..., 14, 15, 16], dtype=int64))"
      ]
     },
     "execution_count": 87,
     "metadata": {},
     "output_type": "execute_result"
    }
   ],
   "source": [
    "indices = np.where(arr == 7)\n",
    "indices"
   ]
  },
  {
   "cell_type": "code",
   "execution_count": 5,
   "id": "9a9e1e69",
   "metadata": {},
   "outputs": [
    {
     "data": {
      "text/plain": [
       "array([0, 0, 0, 0, 0, 0, 0, 0, 0, 0, 0, 0, 0, 0, 0, 0, 0, 0, 0, 0, 0, 0,\n",
       "       0, 0, 0, 0, 0, 0, 0, 0, 0, 0, 0, 0, 0, 0, 0, 0, 0, 0, 0, 0, 0, 0,\n",
       "       0, 0, 0, 0, 0, 0, 0, 0, 0, 0, 1, 1, 1, 1, 1, 1, 1, 1, 1, 1, 1, 1,\n",
       "       1, 1, 1, 1, 1, 1, 1, 1, 1, 1, 1, 1, 1, 1, 1, 1, 1, 1, 1, 1, 1, 1,\n",
       "       1, 1, 1, 1, 1, 1, 1, 1, 1, 1, 1, 1, 1, 1, 1, 1, 1, 1, 1, 1, 1, 1,\n",
       "       1, 1, 1, 1, 1, 1, 1, 1, 1, 1, 1, 1, 1, 1, 1, 1, 1, 1, 1, 1, 1, 1,\n",
       "       1, 1, 1, 1, 1, 1, 1, 1, 1, 1, 1, 1, 1, 1, 1, 1, 1, 1, 1, 1, 1, 1,\n",
       "       0, 0, 0, 0, 0, 0, 0, 0, 0, 0, 0, 0, 0, 0, 0, 0, 0, 0, 0, 0, 0, 0,\n",
       "       0, 0, 0, 0, 0, 0, 0, 0, 0, 0, 0, 0, 0, 0, 0, 0, 0, 0, 0, 0, 0, 0,\n",
       "       0, 0, 0, 0, 0, 0, 0, 0, 0, 0, 0, 0, 0, 0, 0, 0, 0, 0, 0, 0, 0, 0,\n",
       "       0, 0, 0, 0, 0, 0, 0, 0, 0, 0, 0, 0, 0, 0, 0, 0, 0, 0, 0, 0, 0, 0,\n",
       "       0, 0, 0, 0, 0, 0, 0, 0, 0, 0, 0, 0, 0, 0, 0, 0, 0, 0, 0, 0, 0, 0,\n",
       "       0, 0, 0, 0, 0, 0, 1, 1, 1, 1, 1, 1, 1, 1, 1, 1, 1, 1, 1, 1, 1, 1,\n",
       "       1, 1, 1, 1, 1, 1, 1, 1, 1, 1, 1, 1, 1, 1, 1, 1, 1, 1, 1, 1, 1, 1,\n",
       "       1, 1, 1, 1, 1, 1, 1, 1, 1, 1, 1, 1, 1, 1, 1, 1, 1, 1, 1, 1, 1, 1,\n",
       "       1, 1, 1, 1, 1, 1, 1, 1, 1, 1, 1, 1, 1, 1, 1, 1, 1, 1, 1, 1, 1, 1,\n",
       "       1, 1, 1, 1, 1, 1, 1, 1, 1, 1, 1, 1, 1, 1, 1, 1, 1, 1, 1, 1, 1, 1,\n",
       "       1, 1, 1, 1, 1, 1, 1, 1, 1, 1, 1, 1, 1, 1, 1, 1, 1, 1, 1, 1, 1, 1,\n",
       "       1, 1, 1, 1, 1, 1, 1, 1, 1, 1, 1, 1, 1, 1, 1, 1, 1, 1, 1, 1, 1, 1,\n",
       "       1, 1, 1, 1, 1, 1, 1, 1, 1, 1, 1, 1, 1, 1, 1, 1, 1, 1, 1, 1, 1, 1,\n",
       "       1, 1, 1, 1, 1, 1, 1, 1, 1, 1, 1, 1, 0, 0, 0, 0, 0, 0, 0, 0, 0, 0,\n",
       "       0, 0, 0, 0, 0, 0, 0, 0, 1, 1, 1, 1, 1, 1, 1, 1, 1, 1, 1, 1, 1, 1,\n",
       "       1, 1, 1, 1, 1, 1, 1, 1, 1, 1, 1, 1, 1, 1, 1, 1, 1, 1, 1, 1, 1, 1,\n",
       "       1, 1, 1, 1, 1, 1, 1, 1, 1, 1, 1, 1, 1, 1, 1, 1, 1, 1, 1, 1, 1, 1,\n",
       "       1, 1, 1, 1, 1, 1, 1, 1, 1, 1, 1, 1, 1, 1, 1, 1, 1, 1, 1, 1, 1, 1,\n",
       "       1, 1, 1, 1, 1, 1, 1, 1, 1, 1, 1, 1, 1, 1, 1, 1, 1, 1, 1, 1, 1, 1,\n",
       "       1, 1, 1, 1, 1, 1, 1, 1, 1, 1, 1, 1, 1, 1, 1, 1, 1, 1, 1, 1, 1, 1,\n",
       "       1, 1, 1, 1, 1, 1, 0, 0, 0, 0, 0, 0, 0, 0, 0, 0, 0, 0, 0, 0, 0, 0,\n",
       "       0, 0, 0, 0, 0, 0, 0, 0, 0, 0, 0, 0, 0, 0, 0, 0, 0, 0, 0, 0, 0, 0,\n",
       "       0, 0, 0, 0, 0, 0, 0, 0, 0, 0, 0, 0, 0, 0, 1, 1, 1, 1, 1, 1, 1, 1,\n",
       "       1, 1, 1, 1, 1, 1, 1, 1, 1, 1, 1, 1, 1, 1, 1, 1, 1, 1, 1, 1, 1, 1,\n",
       "       1, 1, 1, 1, 1, 1, 1, 1, 1, 1, 1, 1, 1, 1, 1, 1, 1, 1, 1, 1, 1, 1,\n",
       "       1, 1, 1, 1, 1, 1, 1, 1, 1, 1, 1, 1, 1, 1, 1, 1, 1, 1, 1, 1, 1, 1,\n",
       "       1, 1, 1, 1, 1, 1, 1, 1, 1, 1, 1, 1, 1, 1, 1, 1, 1, 1, 1, 1, 1, 1,\n",
       "       1, 1, 1, 1, 1, 1, 1, 1, 1, 1, 1, 1, 1, 1, 1, 1, 1, 1, 1, 1, 1, 1,\n",
       "       1, 1, 1, 1, 1, 1, 1, 1, 1, 1, 1, 1, 1, 1, 1, 1, 1, 1, 1, 1, 1, 1,\n",
       "       1, 1, 1, 1, 1, 1, 1, 1, 1, 1, 1, 1, 1, 1, 1, 1, 1, 1, 1, 1, 1, 1,\n",
       "       1, 1, 1, 1, 1, 1, 1, 1, 1, 1, 1, 1, 1, 1, 0, 0, 0, 0, 0, 0, 0, 0,\n",
       "       0, 0, 0, 0, 0, 0, 0, 0, 0, 0, 0, 0, 0, 0, 0, 0, 0, 0, 0, 0, 0, 0,\n",
       "       0, 0, 0, 0, 0, 0, 0, 0, 0, 0], dtype=uint8)"
      ]
     },
     "execution_count": 5,
     "metadata": {},
     "output_type": "execute_result"
    }
   ],
   "source": [
    "arr[0]"
   ]
  },
  {
   "cell_type": "code",
   "execution_count": 6,
   "id": "09a5cb54",
   "metadata": {},
   "outputs": [
    {
     "data": {
      "text/plain": [
       "0"
      ]
     },
     "execution_count": 6,
     "metadata": {},
     "output_type": "execute_result"
    }
   ],
   "source": [
    "arr[0][0]"
   ]
  },
  {
   "cell_type": "code",
   "execution_count": 90,
   "id": "1c3e371c",
   "metadata": {},
   "outputs": [
    {
     "data": {
      "image/png": "[encoded data removed]",
      "text/plain": [
       "<PIL.Image.Image image mode=P size=1024x1024>"
      ]
     },
     "execution_count": 90,
     "metadata": {},
     "output_type": "execute_result"
    }
   ],
   "source": [
    "img = img.convert(\"P\")\n",
    "# 定义调色板\n",
    "palette = [\n",
    "    1, 0, 0,  # 黑色背景\n",
    "    255, 0, 0,  # 索引1为红色\n",
    "    255, 255, 0,  # 索引2为黄色\n",
    "    255, 153, 0,  # 索引3为橙色\n",
    "    0, 255, 0,  # 索引4为绿色\n",
    "    0, 0, 255,  # 索引5为蓝色\n",
    "    104,104,104, #索引6为灰色\n",
    "    0, 0, 0,  # 黑色背景\n",
    "]\n",
    "\n",
    "# 应用调色板\n",
    "img.putpalette(palette)\n",
    "img"
   ]
  },
  {
   "cell_type": "code",
   "execution_count": null,
   "id": "e6962a8e",
   "metadata": {},
   "outputs": [],
   "source": []
  },
  {
   "cell_type": "code",
   "execution_count": null,
   "id": "9b3b69dd",
   "metadata": {},
   "outputs": [],
   "source": []
  },
  {
   "cell_type": "code",
   "execution_count": null,
   "id": "5dd77405",
   "metadata": {},
   "outputs": [],
   "source": []
  },
  {
   "cell_type": "code",
   "execution_count": 91,
   "id": "3041d0df",
   "metadata": {},
   "outputs": [],
   "source": [
    "img_path = 'mydata/Train/Train/Rural/masks_png/1.png'\n",
    "mask = Image.open(img_path)\n",
    "mask = np.array(mask)\n",
    "# instances are encoded as different colors\n",
    "obj_ids = np.unique(mask)"
   ]
  },
  {
   "cell_type": "code",
   "execution_count": 92,
   "id": "61390220",
   "metadata": {},
   "outputs": [],
   "source": [
    "obj_ids = obj_ids[1:]\n",
    "\n",
    "# split the color-encoded mask into a set of binary masks\n",
    "masks = mask == obj_ids[:, None, None]"
   ]
  },
  {
   "cell_type": "code",
   "execution_count": 95,
   "id": "cccbae58",
   "metadata": {},
   "outputs": [
    {
     "data": {
      "text/plain": [
       "array([2, 3, 4, 6, 7], dtype=uint8)"
      ]
     },
     "execution_count": 95,
     "metadata": {},
     "output_type": "execute_result"
    }
   ],
   "source": [
    "obj_ids "
   ]
  },
  {
   "cell_type": "code",
   "execution_count": 94,
   "id": "6b1afd7f",
   "metadata": {},
   "outputs": [
    {
     "data": {
      "text/plain": [
       "array([[False, False, False, ..., False, False, False],\n",
       "       [False, False, False, ..., False, False, False],\n",
       "       [False, False, False, ..., False, False, False],\n",
       "       ...,\n",
       "       [False, False, False, ..., False, False, False],\n",
       "       [False, False, False, ..., False, False, False],\n",
       "       [False, False, False, ..., False, False, False]])"
      ]
     },
     "execution_count": 94,
     "metadata": {},
     "output_type": "execute_result"
    }
   ],
   "source": [
    "masks[0]"
   ]
  },
  {
   "cell_type": "code",
   "execution_count": null,
   "id": "db50cb66",
   "metadata": {},
   "outputs": [],
   "source": [
    "mask"
   ]
  }
 ],
 "metadata": {
  "kernelspec": {
   "display_name": "Python 3 (ipykernel)",
   "language": "python",
   "name": "python3"
  },
  "language_info": {
   "codemirror_mode": {
    "name": "ipython",
    "version": 3
   },
   "file_extension": ".py",
   "mimetype": "text/x-python",
   "name": "python",
   "nbconvert_exporter": "python",
   "pygments_lexer": "ipython3",
   "version": "3.10.10"
  }
 },
 "nbformat": 4,
 "nbformat_minor": 5
}
