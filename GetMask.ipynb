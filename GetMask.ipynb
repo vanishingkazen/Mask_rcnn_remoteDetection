{
 "cells": [
  {
   "cell_type": "code",
   "execution_count": 41,
   "id": "d56421ae",
   "metadata": {},
   "outputs": [
    {
     "name": "stdout",
     "output_type": "stream",
     "text": [
      "loading annotations into memory...\n",
      "Done (t=0.00s)\n",
      "creating index...\n",
      "index created!\n",
      "catIds len: 2, imgIds len: 1\n"
     ]
    }
   ],
   "source": [
    "from pycocotools.coco import COCO\n",
    "from PIL import Image\n",
    "import os\n",
    "# import tqdm\n",
    "import cv2\n",
    "# import imgviz\n",
    "import numpy as np\n",
    "\n",
    "# def save_colored_mask(save_path, mask):\n",
    "#     \"\"\"保存调色板彩色图\"\"\"\n",
    "#     lbl_pil = Image.fromarray(mask.astype(np.uint8), mode='P')\n",
    "#     colormap = imgviz.label_colormap(80)\n",
    "#     lbl_pil.putpalette(colormap.flatten())\n",
    "#     lbl_pil.save(save_path)\n",
    "\n",
    "\n",
    "coco_root = './mydata/val2014'\n",
    "annotation_file = './mydata/annotations/labels.json'\n",
    "\n",
    "coco = COCO(annotation_file)\n",
    "catIds = coco.getCatIds()       # 类别ID列表\n",
    "imgIds = coco.getImgIds()       # 图像ID列表\n",
    "print(\"catIds len: {}, imgIds len: {}\".format(len(catIds), len(imgIds)))\n",
    "\n",
    "#处理第一张图片\n",
    "\n",
    "anns = coco.loadAnns(annId)    # 获取所有注释信息\n",
    "cats = coco.loadCats(catIds)   # 获取类别信息->dict\n",
    "names = [cat['name'] for cat in cats]  # 类名称"
   ]
  },
  {
   "cell_type": "code",
   "execution_count": 42,
   "id": "df662307",
   "metadata": {},
   "outputs": [],
   "source": [
    "ann = anns[0]\n",
    "imgId = imgIds[0] \n",
    "annId = coco.getAnnIds(imgIds=imgId, iscrowd=False)"
   ]
  },
  {
   "cell_type": "code",
   "execution_count": 43,
   "id": "b23eac97",
   "metadata": {},
   "outputs": [
    {
     "data": {
      "text/plain": [
       "6"
      ]
     },
     "execution_count": 43,
     "metadata": {},
     "output_type": "execute_result"
    }
   ],
   "source": [
    "len(anns)"
   ]
  },
  {
   "cell_type": "code",
   "execution_count": 44,
   "id": "5c341a46",
   "metadata": {
    "scrolled": true
   },
   "outputs": [
    {
     "data": {
      "text/plain": [
       "[[116.39999184016978,\n",
       "  213.75421133231242,\n",
       "  105.70473916023103,\n",
       "  227.12327718223585,\n",
       "  104.36783257523868,\n",
       "  266.78483920367535,\n",
       "  127.09524452010851,\n",
       "  273.4693721286371]]"
      ]
     },
     "execution_count": 44,
     "metadata": {},
     "output_type": "execute_result"
    }
   ],
   "source": [
    "seg = anns[0]['segmentation']\n",
    "seg"
   ]
  },
  {
   "cell_type": "code",
   "execution_count": 45,
   "id": "f00398d4",
   "metadata": {},
   "outputs": [
    {
     "data": {
      "text/plain": [
       "(362, 582)"
      ]
     },
     "execution_count": 45,
     "metadata": {},
     "output_type": "execute_result"
    }
   ],
   "source": [
    "h,w"
   ]
  },
  {
   "cell_type": "code",
   "execution_count": 47,
   "id": "687615fd",
   "metadata": {},
   "outputs": [],
   "source": [
    "\n",
    "image = coco.loadImgs([imgIds[0]])[0]\n",
    "h, w = image['height'], image['width']\n",
    "gt_name = image['file_name'].replace('.jpg', '.png')\n",
    "gt = np.zeros((h, w), dtype=np.uint8)\n",
    "\n",
    "cat = coco.loadCats([ann['category_id']])[0]\n",
    "cat = cat['name']\n",
    "cat = names.index(cat) + 1   # re-map\n",
    "\n",
    "seg = np.array(seg).reshape(-1, 2)     # [n_points, 2]\n",
    "mask = cv2.fillPoly(gt, seg.astype(np.int32)[np.newaxis, :, :], 1)"
   ]
  },
  {
   "cell_type": "code",
   "execution_count": 48,
   "id": "1d48d2c1",
   "metadata": {},
   "outputs": [
    {
     "data": {
      "text/plain": [
       "<pycocotools.coco.COCO at 0x1da0ceca950>"
      ]
     },
     "execution_count": 48,
     "metadata": {},
     "output_type": "execute_result"
    }
   ],
   "source": [
    "coco"
   ]
  },
  {
   "cell_type": "code",
   "execution_count": 39,
   "id": "6a594a7f",
   "metadata": {},
   "outputs": [
    {
     "data": {
      "image/png": "[encoded data removed]",
      "text/plain": [
       "<PIL.Image.Image image mode=P size=582x362>"
      ]
     },
     "execution_count": 39,
     "metadata": {},
     "output_type": "execute_result"
    }
   ],
   "source": [
    "mask = mask.convert(\"P\")\n",
    "# 定义调色板\n",
    "palette = [\n",
    "    0, 0, 0,  # 黑色背景\n",
    "    255, 0, 0,  # 索引1为红色\n",
    "    255, 255, 0,  # 索引2为黄色\n",
    "    255, 153, 0,  # 索引3为橙色\n",
    "]\n",
    "\n",
    "# 应用调色板\n",
    "mask.putpalette(palette)\n",
    "mask"
   ]
  },
  {
   "cell_type": "code",
   "execution_count": null,
   "id": "1b0b235c",
   "metadata": {},
   "outputs": [],
   "source": [
    "cats = coco.loadCats(catIds)   # 获取类别信息->dict\n",
    "names = [cat['name'] for cat in cats]  # 类名称\n",
    "print(names)\n",
    "\n",
    "img_cnt = 0\n",
    "crowd_cnt = 0\n",
    "\n",
    "for idx, imgId in tqdm.tqdm(enumerate(imgIds), ncols=100):\n",
    "    if save_iscrowd:\n",
    "        annIds = coco.getAnnIds(imgIds=imgId)      # 获取该图像上所有的注释id->list\n",
    "    else:\n",
    "        annIds = coco.getAnnIds(imgIds=imgId, iscrowd=False)  # 获取该图像的iscrowd==0的注释id\n",
    "    if len(annIds) > 0:\n",
    "        image = coco.loadImgs([imgId])[0]\n",
    "        ## ['coco_url', 'flickr_url', 'date_captured', 'license', 'width', 'height', 'file_name', 'id']\n",
    "\n",
    "        h, w = image['height'], image['width']\n",
    "        gt_name = image['file_name'].replace('.jpg', '.png')\n",
    "        gt = np.zeros((h, w), dtype=np.uint8)\n",
    "        anns = coco.loadAnns(annIds)    # 获取所有注释信息\n",
    "\n",
    "        has_crowd_flag = 0\n",
    "        save_flag = 0\n",
    "        for ann_idx, ann in enumerate(anns):\n",
    "            cat = coco.loadCats([ann['category_id']])[0]\n",
    "            cat = cat['name']\n",
    "            cat = names.index(cat) + 1   # re-map\n",
    "\n",
    "            if not ann['iscrowd']:  # iscrowd==0\n",
    "                segs = ann['segmentation']\n",
    "                for seg in segs:\n",
    "                    seg = np.array(seg).reshape(-1, 2)     # [n_points, 2]\n",
    "                    cv2.fillPoly(gt, seg.astype(np.int32)[np.newaxis, :, :], int(cat))\n",
    "            elif save_iscrowd:\n",
    "                has_crowd_flag = 1\n",
    "                rle = ann['segmentation']['counts']\n",
    "                assert sum(rle) == ann['segmentation']['size'][0] * ann['segmentation']['size'][1]\n",
    "                mask = coco.annToMask(ann)\n",
    "                unique_label = list(np.unique(mask))\n",
    "                assert len(unique_label) == 2 and 1 in unique_label and 0 in unique_label\n",
    "                gt = gt * (1 - mask) + mask * 255   # 这部分填充255\n",
    "        save_path = os.path.join(coco_root, gt_name)\n",
    "        cv2.imwrite(save_path, gt)\n",
    "        img_cnt += 1\n",
    "        if has_crowd_flag:\n",
    "            crowd_cnt += 1\n",
    "\n",
    "        if idx % 100 == 0:\n",
    "            print('Processed {}/{} images.'.format(idx, len(imgIds)))\n",
    "\n",
    "print('crowd/all = {}/{}'.format(crowd_cnt, img_cnt))"
   ]
  },
  {
   "cell_type": "code",
   "execution_count": null,
   "id": "5b44ef0e",
   "metadata": {},
   "outputs": [],
   "source": []
  },
  {
   "cell_type": "code",
   "execution_count": null,
   "id": "42940f0f",
   "metadata": {},
   "outputs": [],
   "source": []
  }
 ],
 "metadata": {
  "kernelspec": {
   "display_name": "Python 3 (ipykernel)",
   "language": "python",
   "name": "python3"
  },
  "language_info": {
   "codemirror_mode": {
    "name": "ipython",
    "version": 3
   },
   "file_extension": ".py",
   "mimetype": "text/x-python",
   "name": "python",
   "nbconvert_exporter": "python",
   "pygments_lexer": "ipython3",
   "version": "3.10.10"
  }
 },
 "nbformat": 4,
 "nbformat_minor": 5
}
